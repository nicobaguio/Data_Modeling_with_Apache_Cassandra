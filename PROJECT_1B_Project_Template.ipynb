{
 "cells": [
  {
   "cell_type": "markdown",
   "source": [
    "# PART I. ETL Pipeline for Pre-processing Files"
   ],
   "metadata": {}
  },
  {
   "cell_type": "markdown",
   "source": [
    "## Import Packages"
   ],
   "metadata": {}
  },
  {
   "cell_type": "code",
   "execution_count": null,
   "source": [
    "import os\r\n",
    "import glob\r\n",
    "import pandas as pd"
   ],
   "outputs": [],
   "metadata": {
    "editable": true
   }
  },
  {
   "cell_type": "markdown",
   "source": [
    "## Process all CSVs found in the `event_data` folder and combine them to one file."
   ],
   "metadata": {}
  },
  {
   "cell_type": "code",
   "execution_count": null,
   "source": [
    "event_csv_wildcard = os.path.join(\".\", \"event_data\", \"**\", \"*.csv\")"
   ],
   "outputs": [],
   "metadata": {
    "editable": true
   }
  },
  {
   "cell_type": "code",
   "execution_count": null,
   "source": [
    "event_files = glob.glob(event_csv_wildcard, recursive=True)"
   ],
   "outputs": [],
   "metadata": {
    "editable": true
   }
  },
  {
   "cell_type": "code",
   "execution_count": null,
   "source": [
    "cols_to_use = [\r\n",
    "    'artist','firstName','gender','itemInSession',\r\n",
    "    'lastName','length', 'level','location',\r\n",
    "    'sessionId','song','userId'\r\n",
    "]"
   ],
   "outputs": [],
   "metadata": {
    "editable": true
   }
  },
  {
   "cell_type": "code",
   "execution_count": null,
   "source": [
    "events_df = pd.concat(\r\n",
    "    pd.read_csv(f, usecols=cols_to_use) for f in event_files\r\n",
    ")"
   ],
   "outputs": [],
   "metadata": {
    "editable": true
   }
  },
  {
   "cell_type": "code",
   "execution_count": null,
   "source": [
    "events_df = events_df.loc[events_df.isna().sum(axis=1) == 0].copy()\r\n",
    "\r\n",
    "events_df.reset_index(drop=True, inplace=True)\r\n",
    "\r\n",
    "events_df['userId'] = events_df['userId'].astype('int')\r\n",
    "\r\n",
    "events_df.to_csv(\r\n",
    "    \"./event_data_new.csv\",\r\n",
    "    index=False\r\n",
    ")"
   ],
   "outputs": [],
   "metadata": {
    "editable": true
   }
  },
  {
   "cell_type": "code",
   "execution_count": null,
   "source": [
    "# Create New Column\r\n",
    "events_df['name'] = events_df[['lastName', 'firstName']].agg(', '.join, axis=1)"
   ],
   "outputs": [],
   "metadata": {
    "editable": true
   }
  },
  {
   "cell_type": "markdown",
   "source": [
    "# PART II. SETTING UP THE DATABASE"
   ],
   "metadata": {}
  },
  {
   "cell_type": "markdown",
   "source": [
    "## Create Cluster"
   ],
   "metadata": {}
  },
  {
   "cell_type": "code",
   "execution_count": null,
   "source": [
    "from cassandra.cluster import Cluster\r\n",
    "\r\n",
    "try:\r\n",
    "    cluster = Cluster()\r\n",
    "    session = cluster.connect()\r\n",
    "except Exception as e:\r\n",
    "    print(e)"
   ],
   "outputs": [],
   "metadata": {
    "editable": true
   }
  },
  {
   "cell_type": "markdown",
   "source": [
    "## Create & Connect to Keyspace"
   ],
   "metadata": {}
  },
  {
   "cell_type": "code",
   "execution_count": null,
   "source": [
    "try:\r\n",
    "    session.execute(\r\n",
    "        \"\"\"\r\n",
    "            CREATE KEYSPACE IF NOT EXISTS udacity\r\n",
    "            WITH REPLICATION = { 'class': 'SimpleStrategy', 'replication_factor': 1 }\r\n",
    "        \"\"\"\r\n",
    "    )\r\n",
    "    print(\"Success: Keyspace created successfully.\")\r\n",
    "except Exception as e:\r\n",
    "    print(e)"
   ],
   "outputs": [],
   "metadata": {
    "editable": true
   }
  },
  {
   "cell_type": "code",
   "execution_count": null,
   "source": [
    "try:\r\n",
    "    session.set_keyspace('udacity')\r\n",
    "except Exception as e:\r\n",
    "    print(e)"
   ],
   "outputs": [],
   "metadata": {
    "editable": true
   }
  },
  {
   "cell_type": "markdown",
   "source": [
    "# PART III. QUERIES"
   ],
   "metadata": {}
  },
  {
   "cell_type": "markdown",
   "source": [
    "## 1. Give me the artist, song title and song's length in the music app history that was heard during  sessionId = 338, and itemInSession  = 4\r\n",
    "\r\n",
    "### QUERY\r\n",
    "\r\n",
    "        SELECT artist, song_title, song_length FROM session_item_library WHERE session_id=338 AND item_session=4\r\n",
    "\r\n",
    "### PRIMARY KEY\r\n",
    "\r\n",
    "        PARTITION KEY: sessionId\r\n",
    "        CLUSTERING KEY: item_session"
   ],
   "metadata": {
    "editable": true
   }
  },
  {
   "cell_type": "markdown",
   "source": [
    "Create table for Session Item database"
   ],
   "metadata": {}
  },
  {
   "cell_type": "code",
   "execution_count": null,
   "source": [
    "query1 = \"CREATE TABLE session_item_library \"\r\n",
    "query1 += \"\"\"(\r\n",
    "    artist text,\r\n",
    "    song_title text,\r\n",
    "    song_length float,\r\n",
    "    session_id int,\r\n",
    "    item_session int,\r\n",
    "    PRIMARY KEY (session_id, item_session))\r\n",
    "\"\"\"\r\n",
    "\r\n",
    "try:\r\n",
    "    session.execute(query1)\r\n",
    "    print(\"Success: Table created successfully.\")\r\n",
    "except Exception as e:\r\n",
    "    print(e)"
   ],
   "outputs": [],
   "metadata": {
    "editable": true
   }
  },
  {
   "cell_type": "code",
   "execution_count": null,
   "source": [
    "session_item_df = events_df[\r\n",
    "    ['artist', 'song', 'length', 'sessionId', 'itemInSession']\r\n",
    "].copy()"
   ],
   "outputs": [],
   "metadata": {
    "editable": true
   }
  },
  {
   "cell_type": "markdown",
   "source": [
    "Insert data into database"
   ],
   "metadata": {}
  },
  {
   "cell_type": "code",
   "execution_count": null,
   "source": [
    "session_item_insert = \"\"\"\r\n",
    "    INSERT INTO session_item_library (artist, song_title, song_length, session_id, item_session) VALUES (%s, %s, %s, %s, %s)\r\n",
    "\"\"\"\r\n",
    "\r\n",
    "for _, dat in session_item_df.iterrows():\r\n",
    "    session.execute(session_item_insert, tuple(dat.tolist()))"
   ],
   "outputs": [],
   "metadata": {
    "editable": true
   }
  },
  {
   "cell_type": "markdown",
   "source": [
    "Test that the database creation & data insertion worked\r\n",
    "\r\n",
    "expected output:\r\n",
    "\r\n",
    "        Faithless Music Matters (Mark Knight Dub) 495.30731201171875"
   ],
   "metadata": {}
  },
  {
   "cell_type": "code",
   "execution_count": null,
   "source": [
    "session_item_select = \"SELECT artist, song_title, song_length FROM session_item_library WHERE session_id=338 AND item_session=4\"\r\n",
    "\r\n",
    "try:\r\n",
    "    rows = session.execute(session_item_select)\r\n",
    "except Exception as e:\r\n",
    "    print(e)\r\n",
    "    \r\n",
    "for row in rows:\r\n",
    "    print(row.artist, row.song_title, row.song_length)"
   ],
   "outputs": [],
   "metadata": {
    "editable": true
   }
  },
  {
   "cell_type": "markdown",
   "source": [
    "## 2. Give me only the following: name of artist, song (sorted by itemInSession) and user (first and last name) for userid = 10, sessionid = 182\r\n",
    "\r\n",
    "### QUERY\r\n",
    "\r\n",
    "        SELECT artist, song_title, name, item_session FROM user_session_library WHERE user_id=10 AND session_id=182\r\n",
    "\r\n",
    "### PRIMARY KEY\r\n",
    "\r\n",
    "        PARTITION KEY: user_id\r\n",
    "        CLUSTERING KEY: session_id & item_session"
   ],
   "metadata": {
    "editable": true
   }
  },
  {
   "cell_type": "markdown",
   "source": [
    "Create table for User Session database"
   ],
   "metadata": {}
  },
  {
   "cell_type": "code",
   "execution_count": null,
   "source": [
    "query2 = \"CREATE TABLE user_session_library \"\r\n",
    "query2 += \"\"\"(\r\n",
    "    artist text,\r\n",
    "    song_title text,\r\n",
    "    item_session int,\r\n",
    "    user_id int,\r\n",
    "    name text,\r\n",
    "    session_id int,\r\n",
    "    PRIMARY KEY (user_id, session_id, item_session))\r\n",
    "\"\"\"\r\n",
    "\r\n",
    "try:\r\n",
    "    session.execute(query2)\r\n",
    "except Exception as e:\r\n",
    "    print(e)"
   ],
   "outputs": [],
   "metadata": {
    "editable": true
   }
  },
  {
   "cell_type": "code",
   "execution_count": null,
   "source": [
    "user_session_df = events_df[\r\n",
    "    ['artist', 'song', 'itemInSession', 'userId', 'name', 'sessionId']\r\n",
    "].copy()"
   ],
   "outputs": [],
   "metadata": {}
  },
  {
   "cell_type": "markdown",
   "source": [
    "Insert data into database"
   ],
   "metadata": {}
  },
  {
   "cell_type": "code",
   "execution_count": null,
   "source": [
    "user_session_insert = \"\"\"\r\n",
    "    INSERT INTO user_session_library (\r\n",
    "        artist, song_title, item_session,\r\n",
    "        user_id, name, session_id\r\n",
    "    ) VALUES (%s, %s, %s, %s, %s, %s)\r\n",
    "\"\"\"\r\n",
    "\r\n",
    "for _, dat in user_session_df.iterrows():\r\n",
    "#     print(_)\r\n",
    "    session.execute(user_session_insert, tuple(dat.tolist()))"
   ],
   "outputs": [],
   "metadata": {
    "editable": true
   }
  },
  {
   "cell_type": "markdown",
   "source": [
    "Test that the database creation & data insertion worked\r\n",
    "\r\n",
    "expected output:\r\n",
    "\r\n",
    "        Down To The Bone Keep On Keepin' On Cruz, Sylvie 0\r\n",
    "        Three Drives Greece 2000 Cruz, Sylvie 1\r\n",
    "        Sebastien Tellier Kilometer Cruz, Sylvie 2\r\n",
    "        Lonnie Gordon Catch You Baby (Steve Pitron & Max Sanna Radio Edit) Cruz, Sylvie 3\r\n",
    "\r\n",
    "*Note: ordered by item_session*"
   ],
   "metadata": {}
  },
  {
   "cell_type": "code",
   "execution_count": null,
   "source": [
    "user_session_select = \"SELECT artist, song_title, name, item_session FROM user_session_library WHERE user_id=10 AND session_id=182\"\r\n",
    "\r\n",
    "try:\r\n",
    "    rows = session.execute(user_session_select)\r\n",
    "except Exception as e:\r\n",
    "    print(e)\r\n",
    "    \r\n",
    "for row in rows:\r\n",
    "    print(row.artist, row.song_title, row.name, row.item_session)"
   ],
   "outputs": [],
   "metadata": {
    "editable": true
   }
  },
  {
   "cell_type": "markdown",
   "source": [
    "## 3. Give me every user name (first and last) in my music app history who listened to the song 'All Hands Against His Own'\r\n",
    "\r\n",
    "### QUERY\r\n",
    "\r\n",
    "        SELECT name FROM user_song_library WHERE song_title='All Hands Against His Own'\r\n",
    "\r\n",
    "### PRIMARY KEY\r\n",
    "\r\n",
    "        PARTITION KEY: song_title\r\n",
    "        CLUSTERING KEY: user_id"
   ],
   "metadata": {
    "editable": true
   }
  },
  {
   "cell_type": "markdown",
   "source": [
    "Create table for User Song database"
   ],
   "metadata": {}
  },
  {
   "cell_type": "code",
   "execution_count": null,
   "source": [
    "query3 = \"CREATE TABLE user_song_library \"\r\n",
    "query3 += \"\"\"(\r\n",
    "    song_title text,\r\n",
    "    user_id int,\r\n",
    "    name text,\r\n",
    "    PRIMARY KEY (song_title, user_id))\r\n",
    "\"\"\"\r\n",
    "\r\n",
    "try:\r\n",
    "    session.execute(query3)\r\n",
    "except Exception as e:\r\n",
    "    print(e)"
   ],
   "outputs": [],
   "metadata": {
    "editable": true
   }
  },
  {
   "cell_type": "code",
   "execution_count": null,
   "source": [
    "user_song_df = events_df[\r\n",
    "    ['song', 'userId', 'name']\r\n",
    "].copy()"
   ],
   "outputs": [],
   "metadata": {}
  },
  {
   "cell_type": "markdown",
   "source": [
    "Insert data into database"
   ],
   "metadata": {}
  },
  {
   "cell_type": "code",
   "execution_count": null,
   "source": [
    "user_song_insert = \"\"\"\r\n",
    "    INSERT INTO user_song_library (\r\n",
    "        song_title, user_id, name\r\n",
    "    ) VALUES (%s, %s, %s)\r\n",
    "\"\"\"\r\n",
    "\r\n",
    "for _, dat in user_song_df.iterrows():\r\n",
    "#     print(_)\r\n",
    "    session.execute(user_song_insert, tuple(dat.tolist()))"
   ],
   "outputs": [],
   "metadata": {
    "editable": true
   }
  },
  {
   "cell_type": "markdown",
   "source": [
    "Test that the database creation & data insertion worked\r\n",
    "\r\n",
    "expected output:\r\n",
    "\r\n",
    "        Lynch, Jacqueline\r\n",
    "        Levine, Tegan\r\n",
    "        Johnson, Sara\r\n",
    "\r\n",
    "*Note: ordered by item_session*"
   ],
   "metadata": {}
  },
  {
   "cell_type": "code",
   "execution_count": null,
   "source": [
    "user_song_select = \"SELECT name FROM user_song_library WHERE song_title='All Hands Against His Own'\"\r\n",
    "\r\n",
    "try:\r\n",
    "    rows = session.execute(user_song_select)\r\n",
    "except Exception as e:\r\n",
    "    print(e)\r\n",
    "    \r\n",
    "for row in rows:\r\n",
    "    print(row.name)"
   ],
   "outputs": [],
   "metadata": {
    "editable": true
   }
  },
  {
   "cell_type": "markdown",
   "source": [
    "## DROP TABLES"
   ],
   "metadata": {
    "editable": true
   }
  },
  {
   "cell_type": "code",
   "execution_count": null,
   "source": [
    "tables_to_drop = ['session_item_library', 'user_session_library', 'user_song_library']\r\n",
    "\r\n",
    "for table in tables_to_drop:\r\n",
    "    try:\r\n",
    "        session.execute(f\"DROP TABLE {table}\")\r\n",
    "    except Exception as e:\r\n",
    "        print(e)"
   ],
   "outputs": [],
   "metadata": {
    "editable": true
   }
  },
  {
   "cell_type": "markdown",
   "source": [
    "## CLOSE SESSION"
   ],
   "metadata": {
    "editable": true
   }
  },
  {
   "cell_type": "code",
   "execution_count": null,
   "source": [
    "session.shutdown()\r\n",
    "cluster.shutdown()"
   ],
   "outputs": [],
   "metadata": {
    "editable": true
   }
  }
 ],
 "metadata": {
  "kernelspec": {
   "name": "python3",
   "display_name": "Python 3.9.7 64-bit (windows store)"
  },
  "language_info": {
   "codemirror_mode": {
    "name": "ipython",
    "version": 3
   },
   "file_extension": ".py",
   "mimetype": "text/x-python",
   "name": "python",
   "nbconvert_exporter": "python",
   "pygments_lexer": "ipython3",
   "version": "3.9.7"
  },
  "interpreter": {
   "hash": "b79491734f9e8041e17fb3e3c7965f85d782af39f70e6e69ab0ce0e541b05de3"
  }
 },
 "nbformat": 4,
 "nbformat_minor": 4
}